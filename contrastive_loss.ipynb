{
 "cells": [
  {
   "cell_type": "markdown",
   "metadata": {},
   "source": [
    "# Contrastive Loss"
   ]
  },
  {
   "cell_type": "markdown",
   "metadata": {},
   "source": [
    "## Siamese Neural Networks\n",
    "\n",
    "A popular approach for estimating sample similarity are **Siamese Neural Networks**.\n",
    "\n",
    "They are made up of two (or more) Neural Networks which share identical weights.\n",
    "If the embeddings produced for two different samples are similar, these two samples are considered to be similar (and vice versa)."
   ]
  },
  {
   "cell_type": "markdown",
   "metadata": {},
   "source": [
    "## Contrastive Loss\n",
    "\n",
    "The objective of Siamese Neural Networks is to maximize the distance between embeddings for dissimilar inputs while minimizing the distance between embeddings for similar ones.\n",
    "\n",
    "A simple loss function for this objective is **Contrastive Loss**.\n",
    "\n",
    "Contrastive loss is defined as follows:\n",
    "\n",
    "$$L^m_\\text{cont}(x_i, x_j; f) = \\{y_i = y_j\\} \\cdot {||f_i - f_j||}_2^2 + \\{y_i \\neq y_j\\} \\cdot \\text{max}(0, m - ||f_i - f_j||_2^2)$$\n",
    "\n",
    "where $m$ is a margin parameter which imposes the distance between negative examples to be larger than $m$.\n",
    "\n",
    "In practice the distance between the embeddings $f_i$ and $f_j$ is often computed as the euclidean or cosine distance."
   ]
  },
  {
   "cell_type": "markdown",
   "metadata": {},
   "source": [
    "Let's see if we can train our sign language detection model using Contrastive Loss."
   ]
  },
  {
   "cell_type": "markdown",
   "metadata": {},
   "source": [
    "Since our reason for using contrastive learning was to apply our model to previously unseen signs, let's exclude our test signs entirely from the trainign data."
   ]
  },
  {
   "cell_type": "code",
   "execution_count": 17,
   "metadata": {},
   "outputs": [],
   "source": [
    "import math\n",
    "import pandas as pd\n",
    "import numpy as np\n",
    "from sklearn.utils import shuffle\n",
    "from sklearn.model_selection import train_test_split\n",
    "from tensorflow.keras.utils import to_categorical\n",
    "\n",
    "# Import the dataset as a pandas DataFrame\n",
    "ds = pd.read_csv('./dataset/german_sign_language.csv')\n",
    "ds = ds.sort_values('label')\n",
    "\n",
    "def str_labels_to_int(labels):\n",
    "    \"\"\"Convert string labels to int and keep track of mapping.\"\"\"\n",
    "    unique_labels = np.unique(labels)\n",
    "    label_map = {lbl: i for i, lbl in enumerate(unique_labels)}\n",
    "    return np.array([label_map[lbl] for lbl in labels]), label_map\n",
    "\n",
    "# Convert the DataFrame to Numpy array for samples and labels\n",
    "ds_y = ds.label.array\n",
    "ds_y, label_map = str_labels_to_int(ds_y)\n",
    "ds_x = ds.drop(['label'], axis=1)\n",
    "ds_x = ds_x.to_numpy()\n",
    "ds_x = ds_x.reshape((ds_x.shape[0], -1, 3))  # reshape to 3D landmarks\n",
    "\n",
    "# Split into train and test data\n",
    "# (Exclude test labels from train data)\n",
    "str_labels = list(label_map.values())\n",
    "test_split = 0.2\n",
    "label_split_idx = len(str_labels) - math.ceil(len(str_labels) * test_split)\n",
    "train_labels = str_labels[:label_split_idx]\n",
    "unique_test_labels = str_labels[label_split_idx:]\n",
    "\n",
    "\n",
    "x_train = []\n",
    "y_train = []\n",
    "x_test = []\n",
    "y_test = []\n",
    "\n",
    "for x, y in zip(ds_x, ds_y):\n",
    "    if y in train_labels:\n",
    "        x_train.append(x)\n",
    "        y_train.append(y)\n",
    "    else:\n",
    "        x_test.append(x)\n",
    "        y_test.append(y)\n",
    "\n",
    "x_train = np.array(x_train)\n",
    "y_train = np.array(y_train)\n",
    "x_test = np.array(x_test)\n",
    "y_test = np.array(y_test)\n",
    "\n",
    "# Shuffle training data\n",
    "x_train, y_train = shuffle(x_train, y_train, random_state=42)"
   ]
  },
  {
   "cell_type": "markdown",
   "metadata": {},
   "source": [
    "For contrastive learning our data must be present in pairs of matching and non-matching samples:"
   ]
  },
  {
   "cell_type": "code",
   "execution_count": 2,
   "metadata": {},
   "outputs": [],
   "source": [
    "import random\n",
    "\n",
    "def make_pairs(x, y):\n",
    "    unique_labels = np.unique(y)\n",
    "    sign_indices = {i: np.where(y == i)[0] for i in unique_labels}\n",
    "\n",
    "    pairs = []\n",
    "    labels = []\n",
    "\n",
    "    for idx1 in range(len(x)):\n",
    "        # Add a matching example\n",
    "        x1 = x[idx1]\n",
    "        label1 = y[idx1]\n",
    "        idx2 = random.choice(sign_indices[label1])\n",
    "        x2 = x[idx2]\n",
    "        assert y[idx2] == y[idx1]\n",
    "\n",
    "        pairs.append([x1, x2])\n",
    "        labels.append(0)\n",
    "\n",
    "        # Add a non-matching example\n",
    "        label2 = random.choice(unique_labels)\n",
    "        while label2 == label1:\n",
    "            label2 = random.choice(unique_labels)\n",
    "        \n",
    "        idx2 = random.choice(sign_indices[label2])\n",
    "        x2 = x[idx2]\n",
    "        assert y[idx2] != y[idx1]\n",
    "\n",
    "        pairs.append([x1, x2])\n",
    "        labels.append(1)\n",
    "\n",
    "    return np.array(pairs), np.array(labels).astype(\"float32\")"
   ]
  },
  {
   "cell_type": "markdown",
   "metadata": {},
   "source": [
    "Our labels now represent the distance between samples (0 if matching, 1 if non-matching)."
   ]
  },
  {
   "cell_type": "code",
   "execution_count": 3,
   "metadata": {},
   "outputs": [],
   "source": [
    "pairs_train, labels_train = make_pairs(x_train, y_train)\n",
    "pairs_test, labels_test = make_pairs(x_test, y_test)\n",
    "\n",
    "x_train_1 = pairs_train[:, 0]\n",
    "x_train_2 = pairs_train[:, 1]\n",
    "\n",
    "x_test_1 = pairs_test[:, 0]\n",
    "x_test_2 = pairs_test[:, 1]\n"
   ]
  },
  {
   "cell_type": "markdown",
   "metadata": {},
   "source": [
    "We'll use the euclidean distance as our model's distance metric:"
   ]
  },
  {
   "cell_type": "code",
   "execution_count": 4,
   "metadata": {},
   "outputs": [],
   "source": [
    "import tensorflow as tf\n",
    "\n",
    "def euclidean_distance(vects):\n",
    "    \"\"\"Find the Euclidean distance between two vectors.\n",
    "\n",
    "    Arguments:\n",
    "        vects: List containing two tensors of same length.\n",
    "\n",
    "    Returns:\n",
    "        Tensor containing euclidean distance\n",
    "        (as floating point value) between vectors.\n",
    "    \"\"\"\n",
    "\n",
    "    x, y = vects\n",
    "    sum_square = tf.math.reduce_sum(tf.math.square(x - y), axis=1, keepdims=True)\n",
    "    return tf.math.sqrt(tf.math.maximum(sum_square, tf.keras.backend.epsilon()))"
   ]
  },
  {
   "cell_type": "markdown",
   "metadata": {},
   "source": [
    "For our Siamese Neural Network we want to use the same original model (without mapping to classes using softmax):"
   ]
  },
  {
   "cell_type": "code",
   "execution_count": 5,
   "metadata": {},
   "outputs": [],
   "source": [
    "from tensorflow.keras import Input, Model\n",
    "from tensorflow.keras.layers import Dense, Flatten, AlphaDropout, LayerNormalization\n",
    "\n",
    "def new_snn(dense_count: int, dense_base: int):\n",
    "    # Model input\n",
    "    inputs = Input(shape=x_train[0].shape, name='Landmark_Vectors')\n",
    "\n",
    "    # Layer normalization (only for inputs)\n",
    "    layerNorm = LayerNormalization(name='LayerNorm')(inputs)\n",
    "\n",
    "    # Flatten 3D inputs\n",
    "    flatten = Flatten(name='Flatten_Vectors')(layerNorm)\n",
    "\n",
    "    # Create conical, fully connected NN with n dense layers\n",
    "    out = flatten\n",
    "\n",
    "    for i in range(dense_count):\n",
    "        units = (dense_count-i) * (dense_count-i) * dense_base\n",
    "        dense = Dense(units, \n",
    "                    kernel_initializer=\"lecun_normal\", \n",
    "                    bias_initializer=\"zeros\", \n",
    "                    activation='selu',\n",
    "                    name=f'Dense_{i+1}')\n",
    "        a_dropout = AlphaDropout(0.05, name=f'Dropout_{i+1}')\n",
    "        out = dense(out)\n",
    "        if (i < dense_count-1):\n",
    "            out = a_dropout(out)\n",
    "\n",
    "    model = Model(inputs=inputs, outputs=out, name=\"SNN_6\")\n",
    "\n",
    "    return model"
   ]
  },
  {
   "cell_type": "markdown",
   "metadata": {},
   "source": [
    "But twice with shared weights:"
   ]
  },
  {
   "cell_type": "code",
   "execution_count": 6,
   "metadata": {},
   "outputs": [
    {
     "name": "stdout",
     "output_type": "stream",
     "text": [
      "Model: \"siamese_snn\"\n",
      "__________________________________________________________________________________________________\n",
      " Layer (type)                Output Shape                 Param #   Connected to                  \n",
      "==================================================================================================\n",
      " input_1 (InputLayer)        [(None, 21, 3)]              0         []                            \n",
      "                                                                                                  \n",
      " input_2 (InputLayer)        [(None, 21, 3)]              0         []                            \n",
      "                                                                                                  \n",
      " SNN_6 (Functional)          (None, 48)                   3532374   ['input_1[0][0]',             \n",
      "                                                                     'input_2[0][0]']             \n",
      "                                                                                                  \n",
      " lambda (Lambda)             (None, 1)                    0         ['SNN_6[0][0]',               \n",
      "                                                                     'SNN_6[1][0]']               \n",
      "                                                                                                  \n",
      " batch_normalization (Batch  (None, 1)                    4         ['lambda[0][0]']              \n",
      " Normalization)                                                                                   \n",
      "                                                                                                  \n",
      " dense (Dense)               (None, 1)                    2         ['batch_normalization[0][0]'] \n",
      "                                                                                                  \n",
      "==================================================================================================\n",
      "Total params: 3532380 (13.47 MB)\n",
      "Trainable params: 3532378 (13.47 MB)\n",
      "Non-trainable params: 2 (8.00 Byte)\n",
      "__________________________________________________________________________________________________\n"
     ]
    }
   ],
   "source": [
    "from keras.layers import Lambda, BatchNormalization\n",
    "\n",
    "embedding_network = new_snn(6, 48)\n",
    "\n",
    "input_1 = Input(x_train[0].shape)\n",
    "input_2 = Input(x_train[0].shape)\n",
    "\n",
    "tower_1 = embedding_network(input_1)\n",
    "tower_2 = embedding_network(input_2)\n",
    "\n",
    "merge_layer = Lambda(euclidean_distance)([tower_1, tower_2])\n",
    "normal_layer = BatchNormalization()(merge_layer)\n",
    "output_layer = Dense(1, activation=\"sigmoid\")(normal_layer)\n",
    "siamese_snn = Model(inputs=[input_1, input_2], outputs=output_layer, name=\"siamese_snn\")\n",
    "\n",
    "siamese_snn.summary()"
   ]
  },
  {
   "cell_type": "code",
   "execution_count": 7,
   "metadata": {},
   "outputs": [],
   "source": [
    "from tensorflow.keras.callbacks import EarlyStopping, ReduceLROnPlateau\n",
    "\n",
    "# Reduce learning rate if no improvement is made (after 5 epochs)\n",
    "reduce_lr = ReduceLROnPlateau(\n",
    "    monitor='val_acc',\n",
    "    factor=0.2,\n",
    "    min_lr=0,\n",
    "    patience=15,\n",
    "    verbose=1\n",
    ")\n",
    "\n",
    "# Use callback to stop training if no improvement is made (after 10 epochs)\n",
    "early_stop = EarlyStopping(\n",
    "    monitor='val_acc',\n",
    "    restore_best_weights=True,\n",
    "    patience=10,\n",
    "    verbose=1,\n",
    "    start_from_epoch=25\n",
    ")"
   ]
  },
  {
   "cell_type": "markdown",
   "metadata": {},
   "source": [
    "We'll compile or model with the Adam optimizer (as always) and Contrastive Loss:"
   ]
  },
  {
   "cell_type": "code",
   "execution_count": 8,
   "metadata": {},
   "outputs": [],
   "source": [
    "def loss(margin=1):\n",
    "    \"\"\"Provides 'contrastive_loss' an enclosing scope with variable 'margin'.\n",
    "\n",
    "    Arguments:\n",
    "        margin: Integer, defines the baseline for distance for which pairs\n",
    "                should be classified as dissimilar. - (default is 1).\n",
    "\n",
    "    Returns:\n",
    "        'contrastive_loss' function with data ('margin') attached.\n",
    "    \"\"\"\n",
    "\n",
    "    # Contrastive loss = mean( (1-true_value) * square(prediction) +\n",
    "    #                         true_value * square( max(margin-prediction, 0) ))\n",
    "    def contrastive_loss(y_true, y_pred):\n",
    "        \"\"\"Calculates the contrastive loss.\n",
    "\n",
    "        Arguments:\n",
    "            y_true: List of labels, each label is of type float32.\n",
    "            y_pred: List of predictions of same length as of y_true,\n",
    "                    each label is of type float32.\n",
    "\n",
    "        Returns:\n",
    "            A tensor containing contrastive loss as floating point value.\n",
    "        \"\"\"\n",
    "\n",
    "        square_pred = tf.math.square(y_pred)\n",
    "        margin_square = tf.math.square(tf.math.maximum(margin - (y_pred), 0))\n",
    "        return tf.math.reduce_mean(\n",
    "            (1 - y_true) * square_pred + (y_true) * margin_square\n",
    "        )\n",
    "\n",
    "    return contrastive_loss\n"
   ]
  },
  {
   "cell_type": "markdown",
   "metadata": {},
   "source": [
    "However the learning rate should be reduced by a factor of ~0.1, otherwise the model struggles to reach above random accuracy."
   ]
  },
  {
   "cell_type": "code",
   "execution_count": 9,
   "metadata": {},
   "outputs": [
    {
     "name": "stderr",
     "output_type": "stream",
     "text": [
      "WARNING:absl:At this time, the v2.11+ optimizer `tf.keras.optimizers.Adam` runs slowly on M1/M2 Macs, please use the legacy Keras optimizer instead, located at `tf.keras.optimizers.legacy.Adam`.\n"
     ]
    }
   ],
   "source": [
    "from tensorflow.keras.optimizers import Adam\n",
    "\n",
    "# Use Adam optimizer\n",
    "adam = Adam(learning_rate=0.0005, beta_2=0.99, epsilon=0.01)\n",
    "\n",
    "# Compile model\n",
    "siamese_snn.compile(\n",
    "    loss=loss(margin=1),\n",
    "    optimizer=adam,\n",
    "    metrics=['acc']\n",
    ")"
   ]
  },
  {
   "cell_type": "code",
   "execution_count": 10,
   "metadata": {},
   "outputs": [
    {
     "name": "stdout",
     "output_type": "stream",
     "text": [
      "Epoch 1/300\n",
      "72/72 [==============================] - 4s 34ms/step - loss: 0.2948 - acc: 0.5233 - val_loss: 0.3636 - val_acc: 0.5286 - lr: 5.0000e-04\n",
      "Epoch 2/300\n",
      "72/72 [==============================] - 2s 31ms/step - loss: 0.2780 - acc: 0.5438 - val_loss: 0.3311 - val_acc: 0.5872 - lr: 5.0000e-04\n",
      "Epoch 3/300\n",
      "72/72 [==============================] - 2s 33ms/step - loss: 0.2415 - acc: 0.6035 - val_loss: 0.2546 - val_acc: 0.6632 - lr: 5.0000e-04\n",
      "Epoch 4/300\n",
      "72/72 [==============================] - 2s 33ms/step - loss: 0.2237 - acc: 0.6439 - val_loss: 0.2174 - val_acc: 0.7003 - lr: 5.0000e-04\n",
      "Epoch 5/300\n",
      "72/72 [==============================] - 2s 34ms/step - loss: 0.2143 - acc: 0.6669 - val_loss: 0.2122 - val_acc: 0.6968 - lr: 5.0000e-04\n",
      "Epoch 6/300\n",
      "72/72 [==============================] - 3s 36ms/step - loss: 0.2074 - acc: 0.6751 - val_loss: 0.1913 - val_acc: 0.7235 - lr: 5.0000e-04\n",
      "Epoch 7/300\n",
      "72/72 [==============================] - 3s 36ms/step - loss: 0.2023 - acc: 0.6883 - val_loss: 0.1803 - val_acc: 0.7418 - lr: 5.0000e-04\n",
      "Epoch 8/300\n",
      "72/72 [==============================] - 3s 39ms/step - loss: 0.1972 - acc: 0.6988 - val_loss: 0.1733 - val_acc: 0.7449 - lr: 5.0000e-04\n",
      "Epoch 9/300\n",
      "72/72 [==============================] - 2s 34ms/step - loss: 0.1908 - acc: 0.7154 - val_loss: 0.1649 - val_acc: 0.7597 - lr: 5.0000e-04\n",
      "Epoch 10/300\n",
      "72/72 [==============================] - 3s 38ms/step - loss: 0.1858 - acc: 0.7212 - val_loss: 0.1557 - val_acc: 0.7746 - lr: 5.0000e-04\n",
      "Epoch 11/300\n",
      "72/72 [==============================] - 2s 34ms/step - loss: 0.1815 - acc: 0.7336 - val_loss: 0.1485 - val_acc: 0.7907 - lr: 5.0000e-04\n",
      "Epoch 12/300\n",
      "72/72 [==============================] - 3s 35ms/step - loss: 0.1715 - acc: 0.7525 - val_loss: 0.1424 - val_acc: 0.7973 - lr: 5.0000e-04\n",
      "Epoch 13/300\n",
      "72/72 [==============================] - 2s 33ms/step - loss: 0.1666 - acc: 0.7623 - val_loss: 0.1402 - val_acc: 0.8021 - lr: 5.0000e-04\n",
      "Epoch 14/300\n",
      "72/72 [==============================] - 2s 33ms/step - loss: 0.1616 - acc: 0.7734 - val_loss: 0.1368 - val_acc: 0.8130 - lr: 5.0000e-04\n",
      "Epoch 15/300\n",
      "72/72 [==============================] - 2s 33ms/step - loss: 0.1588 - acc: 0.7748 - val_loss: 0.1393 - val_acc: 0.8100 - lr: 5.0000e-04\n",
      "Epoch 16/300\n",
      "72/72 [==============================] - 3s 36ms/step - loss: 0.1573 - acc: 0.7788 - val_loss: 0.1375 - val_acc: 0.8087 - lr: 5.0000e-04\n",
      "Epoch 17/300\n",
      "72/72 [==============================] - 2s 35ms/step - loss: 0.1528 - acc: 0.7886 - val_loss: 0.1383 - val_acc: 0.8060 - lr: 5.0000e-04\n",
      "Epoch 18/300\n",
      "72/72 [==============================] - 2s 32ms/step - loss: 0.1503 - acc: 0.7905 - val_loss: 0.1348 - val_acc: 0.8135 - lr: 5.0000e-04\n",
      "Epoch 19/300\n",
      "72/72 [==============================] - 3s 36ms/step - loss: 0.1475 - acc: 0.7953 - val_loss: 0.1369 - val_acc: 0.8052 - lr: 5.0000e-04\n",
      "Epoch 20/300\n",
      "72/72 [==============================] - 2s 33ms/step - loss: 0.1454 - acc: 0.7994 - val_loss: 0.1355 - val_acc: 0.8108 - lr: 5.0000e-04\n",
      "Epoch 21/300\n",
      "72/72 [==============================] - 2s 34ms/step - loss: 0.1434 - acc: 0.8038 - val_loss: 0.1318 - val_acc: 0.8209 - lr: 5.0000e-04\n",
      "Epoch 22/300\n",
      "72/72 [==============================] - 2s 33ms/step - loss: 0.1407 - acc: 0.8063 - val_loss: 0.1319 - val_acc: 0.8209 - lr: 5.0000e-04\n",
      "Epoch 23/300\n",
      "72/72 [==============================] - 2s 33ms/step - loss: 0.1378 - acc: 0.8112 - val_loss: 0.1268 - val_acc: 0.8274 - lr: 5.0000e-04\n",
      "Epoch 24/300\n",
      "72/72 [==============================] - 2s 34ms/step - loss: 0.1364 - acc: 0.8149 - val_loss: 0.1277 - val_acc: 0.8283 - lr: 5.0000e-04\n",
      "Epoch 25/300\n",
      "72/72 [==============================] - 2s 33ms/step - loss: 0.1334 - acc: 0.8201 - val_loss: 0.1284 - val_acc: 0.8261 - lr: 5.0000e-04\n",
      "Epoch 26/300\n",
      "72/72 [==============================] - 3s 36ms/step - loss: 0.1326 - acc: 0.8208 - val_loss: 0.1236 - val_acc: 0.8362 - lr: 5.0000e-04\n",
      "Epoch 27/300\n",
      "72/72 [==============================] - 3s 37ms/step - loss: 0.1314 - acc: 0.8238 - val_loss: 0.1227 - val_acc: 0.8349 - lr: 5.0000e-04\n",
      "Epoch 28/300\n",
      "72/72 [==============================] - 3s 41ms/step - loss: 0.1294 - acc: 0.8250 - val_loss: 0.1229 - val_acc: 0.8340 - lr: 5.0000e-04\n",
      "Epoch 29/300\n",
      "72/72 [==============================] - 2s 34ms/step - loss: 0.1280 - acc: 0.8275 - val_loss: 0.1225 - val_acc: 0.8340 - lr: 5.0000e-04\n",
      "Epoch 30/300\n",
      "72/72 [==============================] - 2s 33ms/step - loss: 0.1267 - acc: 0.8309 - val_loss: 0.1205 - val_acc: 0.8388 - lr: 5.0000e-04\n",
      "Epoch 31/300\n",
      "72/72 [==============================] - 2s 32ms/step - loss: 0.1248 - acc: 0.8336 - val_loss: 0.1224 - val_acc: 0.8322 - lr: 5.0000e-04\n",
      "Epoch 32/300\n",
      "72/72 [==============================] - 2s 34ms/step - loss: 0.1257 - acc: 0.8288 - val_loss: 0.1205 - val_acc: 0.8353 - lr: 5.0000e-04\n",
      "Epoch 33/300\n",
      "72/72 [==============================] - 2s 34ms/step - loss: 0.1257 - acc: 0.8310 - val_loss: 0.1180 - val_acc: 0.8397 - lr: 5.0000e-04\n",
      "Epoch 34/300\n",
      "72/72 [==============================] - 2s 33ms/step - loss: 0.1236 - acc: 0.8300 - val_loss: 0.1175 - val_acc: 0.8353 - lr: 5.0000e-04\n",
      "Epoch 35/300\n",
      "72/72 [==============================] - 3s 36ms/step - loss: 0.1213 - acc: 0.8364 - val_loss: 0.1161 - val_acc: 0.8445 - lr: 5.0000e-04\n",
      "Epoch 36/300\n",
      "72/72 [==============================] - 3s 36ms/step - loss: 0.1203 - acc: 0.8343 - val_loss: 0.1142 - val_acc: 0.8432 - lr: 5.0000e-04\n",
      "Epoch 37/300\n",
      "72/72 [==============================] - 2s 34ms/step - loss: 0.1186 - acc: 0.8413 - val_loss: 0.1158 - val_acc: 0.8405 - lr: 5.0000e-04\n",
      "Epoch 38/300\n",
      "72/72 [==============================] - 2s 34ms/step - loss: 0.1187 - acc: 0.8378 - val_loss: 0.1171 - val_acc: 0.8410 - lr: 5.0000e-04\n",
      "Epoch 39/300\n",
      "72/72 [==============================] - 2s 32ms/step - loss: 0.1167 - acc: 0.8407 - val_loss: 0.1113 - val_acc: 0.8432 - lr: 5.0000e-04\n",
      "Epoch 40/300\n",
      "72/72 [==============================] - 2s 34ms/step - loss: 0.1172 - acc: 0.8409 - val_loss: 0.1100 - val_acc: 0.8453 - lr: 5.0000e-04\n",
      "Epoch 41/300\n",
      "72/72 [==============================] - 2s 32ms/step - loss: 0.1157 - acc: 0.8432 - val_loss: 0.1092 - val_acc: 0.8480 - lr: 5.0000e-04\n",
      "Epoch 42/300\n",
      "72/72 [==============================] - 2s 32ms/step - loss: 0.1145 - acc: 0.8414 - val_loss: 0.1123 - val_acc: 0.8453 - lr: 5.0000e-04\n",
      "Epoch 43/300\n",
      "72/72 [==============================] - 2s 33ms/step - loss: 0.1142 - acc: 0.8422 - val_loss: 0.1077 - val_acc: 0.8519 - lr: 5.0000e-04\n",
      "Epoch 44/300\n",
      "72/72 [==============================] - 2s 33ms/step - loss: 0.1134 - acc: 0.8480 - val_loss: 0.1063 - val_acc: 0.8523 - lr: 5.0000e-04\n",
      "Epoch 45/300\n",
      "72/72 [==============================] - 2s 33ms/step - loss: 0.1127 - acc: 0.8469 - val_loss: 0.1061 - val_acc: 0.8558 - lr: 5.0000e-04\n",
      "Epoch 46/300\n",
      "72/72 [==============================] - 2s 33ms/step - loss: 0.1115 - acc: 0.8496 - val_loss: 0.1031 - val_acc: 0.8563 - lr: 5.0000e-04\n",
      "Epoch 47/300\n",
      "72/72 [==============================] - 2s 32ms/step - loss: 0.1097 - acc: 0.8524 - val_loss: 0.1022 - val_acc: 0.8589 - lr: 5.0000e-04\n",
      "Epoch 48/300\n",
      "72/72 [==============================] - 2s 33ms/step - loss: 0.1097 - acc: 0.8519 - val_loss: 0.1035 - val_acc: 0.8598 - lr: 5.0000e-04\n",
      "Epoch 49/300\n",
      "72/72 [==============================] - 3s 35ms/step - loss: 0.1084 - acc: 0.8569 - val_loss: 0.1007 - val_acc: 0.8619 - lr: 5.0000e-04\n",
      "Epoch 50/300\n",
      "72/72 [==============================] - 3s 39ms/step - loss: 0.1075 - acc: 0.8531 - val_loss: 0.0989 - val_acc: 0.8672 - lr: 5.0000e-04\n",
      "Epoch 51/300\n",
      "72/72 [==============================] - 2s 34ms/step - loss: 0.1077 - acc: 0.8512 - val_loss: 0.0981 - val_acc: 0.8685 - lr: 5.0000e-04\n",
      "Epoch 52/300\n",
      "72/72 [==============================] - 2s 35ms/step - loss: 0.1062 - acc: 0.8563 - val_loss: 0.0986 - val_acc: 0.8663 - lr: 5.0000e-04\n",
      "Epoch 53/300\n",
      "72/72 [==============================] - 2s 33ms/step - loss: 0.1046 - acc: 0.8604 - val_loss: 0.0984 - val_acc: 0.8650 - lr: 5.0000e-04\n",
      "Epoch 54/300\n",
      "72/72 [==============================] - 2s 33ms/step - loss: 0.1053 - acc: 0.8556 - val_loss: 0.0982 - val_acc: 0.8650 - lr: 5.0000e-04\n",
      "Epoch 55/300\n",
      "72/72 [==============================] - 3s 35ms/step - loss: 0.1044 - acc: 0.8603 - val_loss: 0.0968 - val_acc: 0.8733 - lr: 5.0000e-04\n",
      "Epoch 56/300\n",
      "72/72 [==============================] - 2s 33ms/step - loss: 0.1016 - acc: 0.8633 - val_loss: 0.0955 - val_acc: 0.8724 - lr: 5.0000e-04\n",
      "Epoch 57/300\n",
      "72/72 [==============================] - 3s 36ms/step - loss: 0.1022 - acc: 0.8629 - val_loss: 0.0962 - val_acc: 0.8707 - lr: 5.0000e-04\n",
      "Epoch 58/300\n",
      "72/72 [==============================] - 2s 32ms/step - loss: 0.1009 - acc: 0.8661 - val_loss: 0.0929 - val_acc: 0.8746 - lr: 5.0000e-04\n",
      "Epoch 59/300\n",
      "72/72 [==============================] - 2s 34ms/step - loss: 0.1009 - acc: 0.8653 - val_loss: 0.0925 - val_acc: 0.8781 - lr: 5.0000e-04\n",
      "Epoch 60/300\n",
      "72/72 [==============================] - 2s 34ms/step - loss: 0.1000 - acc: 0.8693 - val_loss: 0.0907 - val_acc: 0.8803 - lr: 5.0000e-04\n",
      "Epoch 61/300\n",
      "72/72 [==============================] - 2s 33ms/step - loss: 0.0987 - acc: 0.8703 - val_loss: 0.0906 - val_acc: 0.8829 - lr: 5.0000e-04\n",
      "Epoch 62/300\n",
      "72/72 [==============================] - 2s 33ms/step - loss: 0.0967 - acc: 0.8722 - val_loss: 0.0889 - val_acc: 0.8842 - lr: 5.0000e-04\n",
      "Epoch 63/300\n",
      "72/72 [==============================] - 3s 37ms/step - loss: 0.0950 - acc: 0.8738 - val_loss: 0.0887 - val_acc: 0.8842 - lr: 5.0000e-04\n",
      "Epoch 64/300\n",
      "72/72 [==============================] - 2s 35ms/step - loss: 0.0971 - acc: 0.8723 - val_loss: 0.0883 - val_acc: 0.8842 - lr: 5.0000e-04\n",
      "Epoch 65/300\n",
      "72/72 [==============================] - 2s 33ms/step - loss: 0.0949 - acc: 0.8725 - val_loss: 0.0876 - val_acc: 0.8895 - lr: 5.0000e-04\n",
      "Epoch 66/300\n",
      "72/72 [==============================] - 2s 33ms/step - loss: 0.0938 - acc: 0.8748 - val_loss: 0.0862 - val_acc: 0.8860 - lr: 5.0000e-04\n",
      "Epoch 67/300\n",
      "72/72 [==============================] - 3s 35ms/step - loss: 0.0935 - acc: 0.8771 - val_loss: 0.0911 - val_acc: 0.8816 - lr: 5.0000e-04\n",
      "Epoch 68/300\n",
      "72/72 [==============================] - 2s 32ms/step - loss: 0.0944 - acc: 0.8737 - val_loss: 0.0850 - val_acc: 0.8921 - lr: 5.0000e-04\n",
      "Epoch 69/300\n",
      "72/72 [==============================] - 2s 32ms/step - loss: 0.0931 - acc: 0.8756 - val_loss: 0.0848 - val_acc: 0.8908 - lr: 5.0000e-04\n",
      "Epoch 70/300\n",
      "72/72 [==============================] - 2s 32ms/step - loss: 0.0928 - acc: 0.8736 - val_loss: 0.0833 - val_acc: 0.8930 - lr: 5.0000e-04\n",
      "Epoch 71/300\n",
      "72/72 [==============================] - 2s 33ms/step - loss: 0.0903 - acc: 0.8811 - val_loss: 0.0839 - val_acc: 0.8886 - lr: 5.0000e-04\n",
      "Epoch 72/300\n",
      "72/72 [==============================] - 2s 34ms/step - loss: 0.0898 - acc: 0.8845 - val_loss: 0.0823 - val_acc: 0.8925 - lr: 5.0000e-04\n",
      "Epoch 73/300\n",
      "72/72 [==============================] - 2s 34ms/step - loss: 0.0897 - acc: 0.8817 - val_loss: 0.0847 - val_acc: 0.8886 - lr: 5.0000e-04\n",
      "Epoch 74/300\n",
      "72/72 [==============================] - 2s 33ms/step - loss: 0.0900 - acc: 0.8830 - val_loss: 0.0791 - val_acc: 0.8991 - lr: 5.0000e-04\n",
      "Epoch 75/300\n",
      "72/72 [==============================] - 2s 33ms/step - loss: 0.0858 - acc: 0.8874 - val_loss: 0.0786 - val_acc: 0.8986 - lr: 5.0000e-04\n",
      "Epoch 76/300\n",
      "72/72 [==============================] - 2s 33ms/step - loss: 0.0855 - acc: 0.8875 - val_loss: 0.0799 - val_acc: 0.8943 - lr: 5.0000e-04\n",
      "Epoch 77/300\n",
      "72/72 [==============================] - 2s 33ms/step - loss: 0.0866 - acc: 0.8863 - val_loss: 0.0781 - val_acc: 0.8965 - lr: 5.0000e-04\n",
      "Epoch 78/300\n",
      "72/72 [==============================] - 2s 31ms/step - loss: 0.0858 - acc: 0.8862 - val_loss: 0.0780 - val_acc: 0.8965 - lr: 5.0000e-04\n",
      "Epoch 79/300\n",
      "72/72 [==============================] - 2s 32ms/step - loss: 0.0842 - acc: 0.8923 - val_loss: 0.0772 - val_acc: 0.9017 - lr: 5.0000e-04\n",
      "Epoch 80/300\n",
      "72/72 [==============================] - 2s 32ms/step - loss: 0.0832 - acc: 0.8925 - val_loss: 0.0780 - val_acc: 0.9021 - lr: 5.0000e-04\n",
      "Epoch 81/300\n",
      "72/72 [==============================] - 2s 32ms/step - loss: 0.0831 - acc: 0.8911 - val_loss: 0.0754 - val_acc: 0.9013 - lr: 5.0000e-04\n",
      "Epoch 82/300\n",
      "72/72 [==============================] - 2s 33ms/step - loss: 0.0819 - acc: 0.8940 - val_loss: 0.0739 - val_acc: 0.9035 - lr: 5.0000e-04\n",
      "Epoch 83/300\n",
      "72/72 [==============================] - 2s 34ms/step - loss: 0.0832 - acc: 0.8925 - val_loss: 0.0765 - val_acc: 0.9004 - lr: 5.0000e-04\n",
      "Epoch 84/300\n",
      "72/72 [==============================] - 2s 33ms/step - loss: 0.0802 - acc: 0.8964 - val_loss: 0.0746 - val_acc: 0.9056 - lr: 5.0000e-04\n",
      "Epoch 85/300\n",
      "72/72 [==============================] - 2s 33ms/step - loss: 0.0804 - acc: 0.8973 - val_loss: 0.0731 - val_acc: 0.9061 - lr: 5.0000e-04\n",
      "Epoch 86/300\n",
      "72/72 [==============================] - 2s 33ms/step - loss: 0.0789 - acc: 0.8989 - val_loss: 0.0719 - val_acc: 0.9087 - lr: 5.0000e-04\n",
      "Epoch 87/300\n",
      "72/72 [==============================] - 2s 32ms/step - loss: 0.0791 - acc: 0.8995 - val_loss: 0.0726 - val_acc: 0.9061 - lr: 5.0000e-04\n",
      "Epoch 88/300\n",
      "72/72 [==============================] - 2s 33ms/step - loss: 0.0790 - acc: 0.8986 - val_loss: 0.0731 - val_acc: 0.9083 - lr: 5.0000e-04\n",
      "Epoch 89/300\n",
      "72/72 [==============================] - 2s 34ms/step - loss: 0.0778 - acc: 0.8996 - val_loss: 0.0707 - val_acc: 0.9083 - lr: 5.0000e-04\n",
      "Epoch 90/300\n",
      "72/72 [==============================] - 2s 32ms/step - loss: 0.0787 - acc: 0.8990 - val_loss: 0.0695 - val_acc: 0.9109 - lr: 5.0000e-04\n",
      "Epoch 91/300\n",
      "72/72 [==============================] - 2s 33ms/step - loss: 0.0782 - acc: 0.8992 - val_loss: 0.0700 - val_acc: 0.9096 - lr: 5.0000e-04\n",
      "Epoch 92/300\n",
      "72/72 [==============================] - 2s 31ms/step - loss: 0.0754 - acc: 0.9045 - val_loss: 0.0683 - val_acc: 0.9118 - lr: 5.0000e-04\n",
      "Epoch 93/300\n",
      "72/72 [==============================] - 2s 33ms/step - loss: 0.0763 - acc: 0.9035 - val_loss: 0.0707 - val_acc: 0.9091 - lr: 5.0000e-04\n",
      "Epoch 94/300\n",
      "72/72 [==============================] - 2s 32ms/step - loss: 0.0757 - acc: 0.9055 - val_loss: 0.0677 - val_acc: 0.9157 - lr: 5.0000e-04\n",
      "Epoch 95/300\n",
      "72/72 [==============================] - 2s 32ms/step - loss: 0.0737 - acc: 0.9052 - val_loss: 0.0667 - val_acc: 0.9157 - lr: 5.0000e-04\n",
      "Epoch 96/300\n",
      "72/72 [==============================] - 2s 33ms/step - loss: 0.0755 - acc: 0.9012 - val_loss: 0.0655 - val_acc: 0.9166 - lr: 5.0000e-04\n",
      "Epoch 97/300\n",
      "72/72 [==============================] - 2s 33ms/step - loss: 0.0744 - acc: 0.9053 - val_loss: 0.0659 - val_acc: 0.9192 - lr: 5.0000e-04\n",
      "Epoch 98/300\n",
      "72/72 [==============================] - 2s 33ms/step - loss: 0.0728 - acc: 0.9087 - val_loss: 0.0646 - val_acc: 0.9179 - lr: 5.0000e-04\n",
      "Epoch 99/300\n",
      "72/72 [==============================] - 2s 33ms/step - loss: 0.0718 - acc: 0.9107 - val_loss: 0.0650 - val_acc: 0.9201 - lr: 5.0000e-04\n",
      "Epoch 100/300\n",
      "72/72 [==============================] - 2s 33ms/step - loss: 0.0733 - acc: 0.9079 - val_loss: 0.0650 - val_acc: 0.9187 - lr: 5.0000e-04\n",
      "Epoch 101/300\n",
      "72/72 [==============================] - 3s 36ms/step - loss: 0.0728 - acc: 0.9074 - val_loss: 0.0650 - val_acc: 0.9205 - lr: 5.0000e-04\n",
      "Epoch 102/300\n",
      "72/72 [==============================] - 2s 33ms/step - loss: 0.0712 - acc: 0.9081 - val_loss: 0.0640 - val_acc: 0.9209 - lr: 5.0000e-04\n",
      "Epoch 103/300\n",
      "72/72 [==============================] - 3s 35ms/step - loss: 0.0707 - acc: 0.9115 - val_loss: 0.0641 - val_acc: 0.9201 - lr: 5.0000e-04\n",
      "Epoch 104/300\n",
      "72/72 [==============================] - 3s 36ms/step - loss: 0.0696 - acc: 0.9105 - val_loss: 0.0626 - val_acc: 0.9222 - lr: 5.0000e-04\n",
      "Epoch 105/300\n",
      "72/72 [==============================] - 3s 35ms/step - loss: 0.0682 - acc: 0.9133 - val_loss: 0.0617 - val_acc: 0.9227 - lr: 5.0000e-04\n",
      "Epoch 106/300\n",
      "72/72 [==============================] - 2s 32ms/step - loss: 0.0684 - acc: 0.9133 - val_loss: 0.0615 - val_acc: 0.9214 - lr: 5.0000e-04\n",
      "Epoch 107/300\n",
      "72/72 [==============================] - 2s 33ms/step - loss: 0.0676 - acc: 0.9154 - val_loss: 0.0619 - val_acc: 0.9231 - lr: 5.0000e-04\n",
      "Epoch 108/300\n",
      "72/72 [==============================] - 2s 32ms/step - loss: 0.0679 - acc: 0.9149 - val_loss: 0.0612 - val_acc: 0.9205 - lr: 5.0000e-04\n",
      "Epoch 109/300\n",
      "72/72 [==============================] - 2s 32ms/step - loss: 0.0668 - acc: 0.9169 - val_loss: 0.0599 - val_acc: 0.9257 - lr: 5.0000e-04\n",
      "Epoch 110/300\n",
      "72/72 [==============================] - 2s 33ms/step - loss: 0.0654 - acc: 0.9149 - val_loss: 0.0602 - val_acc: 0.9270 - lr: 5.0000e-04\n",
      "Epoch 111/300\n",
      "72/72 [==============================] - 2s 31ms/step - loss: 0.0684 - acc: 0.9128 - val_loss: 0.0600 - val_acc: 0.9253 - lr: 5.0000e-04\n",
      "Epoch 112/300\n",
      "72/72 [==============================] - 2s 31ms/step - loss: 0.0655 - acc: 0.9188 - val_loss: 0.0607 - val_acc: 0.9205 - lr: 5.0000e-04\n",
      "Epoch 113/300\n",
      "72/72 [==============================] - 2s 31ms/step - loss: 0.0664 - acc: 0.9146 - val_loss: 0.0584 - val_acc: 0.9275 - lr: 5.0000e-04\n",
      "Epoch 114/300\n",
      "72/72 [==============================] - 2s 32ms/step - loss: 0.0657 - acc: 0.9187 - val_loss: 0.0593 - val_acc: 0.9253 - lr: 5.0000e-04\n",
      "Epoch 115/300\n",
      "72/72 [==============================] - 2s 31ms/step - loss: 0.0653 - acc: 0.9178 - val_loss: 0.0601 - val_acc: 0.9235 - lr: 5.0000e-04\n",
      "Epoch 116/300\n",
      "72/72 [==============================] - 2s 31ms/step - loss: 0.0646 - acc: 0.9186 - val_loss: 0.0587 - val_acc: 0.9262 - lr: 5.0000e-04\n",
      "Epoch 117/300\n",
      "72/72 [==============================] - 2s 33ms/step - loss: 0.0638 - acc: 0.9198 - val_loss: 0.0580 - val_acc: 0.9257 - lr: 5.0000e-04\n",
      "Epoch 118/300\n",
      "72/72 [==============================] - 2s 31ms/step - loss: 0.0631 - acc: 0.9201 - val_loss: 0.0595 - val_acc: 0.9240 - lr: 5.0000e-04\n",
      "Epoch 119/300\n",
      "72/72 [==============================] - 2s 31ms/step - loss: 0.0647 - acc: 0.9167 - val_loss: 0.0569 - val_acc: 0.9270 - lr: 5.0000e-04\n",
      "Epoch 120/300\n",
      "72/72 [==============================] - 2s 31ms/step - loss: 0.0641 - acc: 0.9187 - val_loss: 0.0579 - val_acc: 0.9270 - lr: 5.0000e-04\n",
      "Epoch 121/300\n",
      "72/72 [==============================] - 2s 32ms/step - loss: 0.0625 - acc: 0.9216 - val_loss: 0.0567 - val_acc: 0.9266 - lr: 5.0000e-04\n",
      "Epoch 122/300\n",
      "72/72 [==============================] - 2s 34ms/step - loss: 0.0635 - acc: 0.9190 - val_loss: 0.0574 - val_acc: 0.9262 - lr: 5.0000e-04\n",
      "Epoch 123/300\n",
      "70/72 [============================>.] - ETA: 0s - loss: 0.0611 - acc: 0.9243Restoring model weights from the end of the best epoch: 113.\n",
      "72/72 [==============================] - 2s 33ms/step - loss: 0.0610 - acc: 0.9245 - val_loss: 0.0566 - val_acc: 0.9266 - lr: 5.0000e-04\n",
      "Epoch 123: early stopping\n"
     ]
    }
   ],
   "source": [
    "# Training Hyperparameters\n",
    "epochs = 300\n",
    "val_split = .2\n",
    "\n",
    "# Start training\n",
    "history = siamese_snn.fit(\n",
    "    [x_train_1, x_train_2], \n",
    "    labels_train,\n",
    "    epochs=epochs,\n",
    "    batch_size=128,\n",
    "    validation_split=val_split,\n",
    "    callbacks=[early_stop, reduce_lr],\n",
    "    verbose=1\n",
    ")"
   ]
  },
  {
   "cell_type": "markdown",
   "metadata": {},
   "source": [
    "Our model now takes about twice the number of epochs to converge (not least due to the reduced learning rate), but we seem to get similar levels of validation accuracy."
   ]
  },
  {
   "cell_type": "code",
   "execution_count": 11,
   "metadata": {},
   "outputs": [
    {
     "data": {
      "image/png": "[encoded data removed]",
      "text/plain": [
       "<Figure size 1200x800 with 2 Axes>"
      ]
     },
     "metadata": {},
     "output_type": "display_data"
    }
   ],
   "source": [
    "import matplotlib.pyplot as plt\n",
    "\n",
    "# Lets visualize the training\n",
    "\n",
    "plt.figure(figsize=(12, 8))\n",
    "\n",
    "plt.subplot(2, 2, 1)\n",
    "plt.plot(history.history['loss'], label='train loss')\n",
    "plt.plot(history.history['val_loss'], label='val loss')\n",
    "plt.legend()\n",
    "\n",
    "plt.subplot(2, 2, 2)\n",
    "plt.plot(history.history['acc'], label='train acc')\n",
    "plt.plot(history.history['val_acc'], label='val acc')\n",
    "plt.legend()\n",
    "\n",
    "plt.show()\n",
    "plt.close()"
   ]
  },
  {
   "cell_type": "markdown",
   "metadata": {},
   "source": [
    "Our model also seems to perform quite well on entirely new signs:"
   ]
  },
  {
   "cell_type": "code",
   "execution_count": 12,
   "metadata": {},
   "outputs": [
    {
     "name": "stdout",
     "output_type": "stream",
     "text": [
      "++++++++++++ Test data ++++++++++++\n",
      "loss=0.1093 acc=0.8688\n"
     ]
    }
   ],
   "source": [
    "# And evaluate the model on test data\n",
    "loss, acc = siamese_snn.evaluate([x_test_1, x_test_2], labels_test, verbose=0)\n",
    "print(f'++++++++++++ Test data ++++++++++++\\nloss={loss:.4f} acc={acc:.4f}')"
   ]
  },
  {
   "cell_type": "markdown",
   "metadata": {},
   "source": [
    "We can also reframe the test problem.\n",
    "\n",
    "Previously we judged our model's capability to output a similarity score below 0.5 for matching samples and a score above 0.5 for non-matching ones.\n",
    "\n",
    "How about we test our model's classification capabilities?\n",
    "Given a number of possible classes (reference samples), which class does a given sample belong to?"
   ]
  },
  {
   "cell_type": "code",
   "execution_count": 13,
   "metadata": {},
   "outputs": [],
   "source": [
    "from sklearn.metrics import accuracy_score\n",
    "\n",
    "def evaluate_classification(model, reference_samples, reference_labels, test_samples, test_labels):\n",
    "    y_true= test_labels\n",
    "    y_pred = []\n",
    "    for test_sample, test_label in zip(test_samples, test_labels):\n",
    "        x_test = np.array([test_sample for _ in reference_samples])\n",
    "        pred = model.predict([reference_samples, x_test], verbose=0)\n",
    "        pred_label_idx = np.argmin(pred)\n",
    "        predicted_label = reference_labels[pred_label_idx]\n",
    "        y_pred.append(predicted_label)\n",
    "    return y_true, y_pred, accuracy_score(y_true, y_pred)"
   ]
  },
  {
   "cell_type": "code",
   "execution_count": 14,
   "metadata": {},
   "outputs": [],
   "source": [
    "# x_test and y_test are still sorted by label\n",
    "# -> use the first sample for each label as reference\n",
    "label_change_indices = np.where(np.roll(y_test,1)!=y_test)[0]\n",
    "\n",
    "reference_labels = np.take(y_test, label_change_indices)\n",
    "test_labels = np.delete(y_test, label_change_indices)\n",
    "\n",
    "reference_samples = np.take(x_test, label_change_indices, axis=0)\n",
    "test_samples = np.delete(x_test, label_change_indices, axis=0)"
   ]
  },
  {
   "cell_type": "markdown",
   "metadata": {},
   "source": [
    "While this approach is obviously less computationally efficient our accuracy score is still somewhat respectable.\n",
    "\n",
    "However, it is also significantly lower than our similarity-accuracy and nowhere near our original >90% classification accuracy.\n",
    "\n",
    "This might be due to the fact that the classification problem is much harder: The model now has to produce meaningfully different similarity scores for possibly very similar samples that belong to different classes."
   ]
  },
  {
   "cell_type": "code",
   "execution_count": 15,
   "metadata": {},
   "outputs": [
    {
     "name": "stdout",
     "output_type": "stream",
     "text": [
      "++++++++++++ Test data (classification) ++++++++++++\n",
      "acc=0.7032\n"
     ]
    }
   ],
   "source": [
    "y_true, y_pred, acc = evaluate_classification(\n",
    "    siamese_snn,\n",
    "    reference_samples, reference_labels,\n",
    "    test_samples, test_labels\n",
    ")\n",
    "\n",
    "print(f'++++++++++++ Test data (classification) ++++++++++++\\nacc={acc:.4f}')"
   ]
  },
  {
   "cell_type": "markdown",
   "metadata": {},
   "source": [
    "Looking at the confusion matrix, we can see a typical pattern: The model performs very well on \"easy\" pairings while it is little better than random for \"hard\" pairings (\"easy\" as in: solved well by the original classification model which was trained on the entire dataset; \"hard\": analogous).\n",
    "\n",
    "Improving the model's ability to distinguish similar (hard) samples is a central problem of contrastive learning."
   ]
  },
  {
   "cell_type": "code",
   "execution_count": 18,
   "metadata": {},
   "outputs": [
    {
     "data": {
      "image/png": "[encoded data removed]",
      "text/plain": [
       "<Figure size 640x480 with 2 Axes>"
      ]
     },
     "metadata": {},
     "output_type": "display_data"
    }
   ],
   "source": [
    "import seaborn as sns\n",
    "from sklearn import metrics\n",
    "\n",
    "reverse_label_map = {int_lbl: str_lbl for str_lbl, int_lbl in label_map.items()}\n",
    "str_test_labels = [reverse_label_map[lbl] for lbl in unique_test_labels]\n",
    "\n",
    "confusion_matrix = metrics.confusion_matrix(y_true, y_pred)\n",
    "\n",
    "sns.heatmap(pd.DataFrame(confusion_matrix, index=str_test_labels, columns=str_test_labels), annot=True, cmap=\"YlGnBu\", fmt='d')\n",
    "plt.tight_layout()\n",
    "plt.title('confusion matrix', y=1.1)\n",
    "plt.ylabel('predicted')\n",
    "plt.xlabel('ground truth')\n",
    "plt.show()\n",
    "plt.close()"
   ]
  }
 ],
 "metadata": {
  "kernelspec": {
   "display_name": "venv",
   "language": "python",
   "name": "python3"
  },
  "language_info": {
   "codemirror_mode": {
    "name": "ipython",
    "version": 3
   },
   "file_extension": ".py",
   "mimetype": "text/x-python",
   "name": "python",
   "nbconvert_exporter": "python",
   "pygments_lexer": "ipython3",
   "version": "3.10.11"
  }
 },
 "nbformat": 4,
 "nbformat_minor": 2
}
