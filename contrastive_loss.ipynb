{
 "cells": [
  {
   "cell_type": "markdown",
   "metadata": {},
   "source": [
    "# Contrastive Loss"
   ]
  },
  {
   "cell_type": "markdown",
   "metadata": {},
   "source": [
    "## Siamese Neural Networks\n",
    "\n",
    "A popular approach for estimating sample similarity are **Siamese Neural Networks**.\n",
    "\n",
    "They are made up of two (or more) Neural Networks which share identical weights.\n",
    "If the embeddings produced for two different samples are similar, these two samples are considered to be similar (and vice versa)."
   ]
  },
  {
   "cell_type": "markdown",
   "metadata": {},
   "source": [
    "## Contrastive Loss\n",
    "\n",
    "The objective of Siamese Neural Networks is to maximize the distance between embeddings for dissimilar inputs while minimizing the distance between embeddings for similar ones.\n",
    "\n",
    "A simple loss function for this objective is **Contrastive Loss**.\n",
    "\n",
    "Contrastive loss is defined as follows:\n",
    "\n",
    "$$L^m_\\text{cont}(x_i, x_j; f) = \\{y_i = y_j\\} \\cdot {||f_i - f_j||}_2^2 + \\{y_i \\neq y_j\\} \\cdot \\text{max}(0, m - ||f_i - f_j||_2^2)$$\n",
    "\n",
    "where $m$ is a margin parameter which imposes the distance between negative examples to be larger than $m$.\n",
    "\n",
    "In practice the distance between the embeddings $f_i$ and $f_j$ is often computed as the euclidean or cosine distance."
   ]
  },
  {
   "cell_type": "markdown",
   "metadata": {},
   "source": [
    "Let's see if we can train our sign language detection model using Contrastive Loss."
   ]
  },
  {
   "cell_type": "markdown",
   "metadata": {},
   "source": [
    "Since our reason for using contrastive learning was to apply our model to previously unseen signs, let's exclude our test signs entirely from the trainign data."
   ]
  },
  {
   "cell_type": "code",
   "execution_count": 80,
   "metadata": {},
   "outputs": [],
   "source": [
    "import math\n",
    "import pandas as pd\n",
    "import numpy as np\n",
    "from sklearn.utils import shuffle\n",
    "from sklearn.model_selection import train_test_split\n",
    "from tensorflow.keras.utils import to_categorical\n",
    "\n",
    "# Import the dataset as a pandas DataFrame\n",
    "ds = pd.read_csv('./dataset/german_sign_language.csv')\n",
    "ds = ds.sort_values('label')\n",
    "\n",
    "def str_labels_to_int(labels):\n",
    "    \"\"\"Convert string labels to int and keep track of mapping.\"\"\"\n",
    "    unique_labels = np.unique(labels)\n",
    "    label_map = {lbl: i for i, lbl in enumerate(unique_labels)}\n",
    "    return np.array([label_map[lbl] for lbl in labels]), label_map\n",
    "\n",
    "# Convert the DataFrame to Numpy array for samples and labels\n",
    "ds_y = ds.label.array\n",
    "ds_y, label_map = str_labels_to_int(ds_y)\n",
    "ds_x = ds.drop(['label'], axis=1)\n",
    "ds_x = ds_x.to_numpy()\n",
    "ds_x = ds_x.reshape((ds_x.shape[0], -1, 3))  # reshape to 3D landmarks\n",
    "\n",
    "# Split into train and test data\n",
    "# (Exclude test labels from train data)\n",
    "str_labels = list(label_map.values())\n",
    "test_split = 0.2\n",
    "label_split_idx = len(str_labels) - math.ceil(len(str_labels) * test_split)\n",
    "train_labels = str_labels[:label_split_idx]\n",
    "\n",
    "\n",
    "x_train = []\n",
    "y_train = []\n",
    "x_test = []\n",
    "y_test = []\n",
    "\n",
    "for x, y in zip(ds_x, ds_y):\n",
    "    if y in train_labels:\n",
    "        x_train.append(x)\n",
    "        y_train.append(y)\n",
    "    else:\n",
    "        x_test.append(x)\n",
    "        y_test.append(y)\n",
    "\n",
    "x_train = np.array(x_train)\n",
    "y_train = np.array(y_train)\n",
    "x_test = np.array(x_test)\n",
    "y_test = np.array(y_test)\n",
    "\n",
    "# Shuffle training data\n",
    "x_train, y_train = shuffle(x_train, y_train, random_state=42)"
   ]
  },
  {
   "cell_type": "markdown",
   "metadata": {},
   "source": [
    "For contrastive learning our data must be present in pairs of matching and non-matching samples:"
   ]
  },
  {
   "cell_type": "code",
   "execution_count": 91,
   "metadata": {},
   "outputs": [],
   "source": [
    "import random\n",
    "\n",
    "def make_pairs(x, y):\n",
    "    unique_labels = np.unique(y)\n",
    "    sign_indices = {i: np.where(y == i)[0] for i in unique_labels}\n",
    "\n",
    "    pairs = []\n",
    "    labels = []\n",
    "\n",
    "    for idx1 in range(len(x)):\n",
    "        # Add a matching example\n",
    "        x1 = x[idx1]\n",
    "        label1 = y[idx1]\n",
    "        idx2 = random.choice(sign_indices[label1])\n",
    "        x2 = x[idx2]\n",
    "        assert y[idx2] == y[idx1]\n",
    "\n",
    "        pairs.append([x1, x2])\n",
    "        labels.append(0)\n",
    "\n",
    "        # Add a non-matching example\n",
    "        label2 = random.choice(unique_labels)\n",
    "        while label2 == label1:\n",
    "            label2 = random.choice(unique_labels)\n",
    "        \n",
    "        idx2 = random.choice(sign_indices[label2])\n",
    "        x2 = x[idx2]\n",
    "        assert y[idx2] != y[idx1]\n",
    "\n",
    "        pairs.append([x1, x2])\n",
    "        labels.append(1)\n",
    "\n",
    "    return np.array(pairs), np.array(labels).astype(\"float32\")"
   ]
  },
  {
   "cell_type": "markdown",
   "metadata": {},
   "source": [
    "Our labels now represent the distance between samples (0 if matching, 1 if non-matching)."
   ]
  },
  {
   "cell_type": "code",
   "execution_count": 92,
   "metadata": {},
   "outputs": [],
   "source": [
    "pairs_train, labels_train = make_pairs(x_train, y_train)\n",
    "pairs_test, labels_test = make_pairs(x_test, y_test)\n",
    "\n",
    "x_train_1 = pairs_train[:, 0]\n",
    "x_train_2 = pairs_train[:, 1]\n",
    "\n",
    "x_test_1 = pairs_test[:, 0]\n",
    "x_test_2 = pairs_test[:, 1]\n"
   ]
  },
  {
   "cell_type": "markdown",
   "metadata": {},
   "source": [
    "We'll use the euclidean distance as our model's distance metric:"
   ]
  },
  {
   "cell_type": "code",
   "execution_count": 93,
   "metadata": {},
   "outputs": [],
   "source": [
    "import tensorflow as tf\n",
    "\n",
    "def euclidean_distance(vects):\n",
    "    \"\"\"Find the Euclidean distance between two vectors.\n",
    "\n",
    "    Arguments:\n",
    "        vects: List containing two tensors of same length.\n",
    "\n",
    "    Returns:\n",
    "        Tensor containing euclidean distance\n",
    "        (as floating point value) between vectors.\n",
    "    \"\"\"\n",
    "\n",
    "    x, y = vects\n",
    "    sum_square = tf.math.reduce_sum(tf.math.square(x - y), axis=1, keepdims=True)\n",
    "    return tf.math.sqrt(tf.math.maximum(sum_square, tf.keras.backend.epsilon()))"
   ]
  },
  {
   "cell_type": "markdown",
   "metadata": {},
   "source": [
    "For our Siamese Neural Network we want to use the same original model (without mapping to classes using softmax):"
   ]
  },
  {
   "cell_type": "code",
   "execution_count": 94,
   "metadata": {},
   "outputs": [],
   "source": [
    "from tensorflow.keras import Input, Model\n",
    "from tensorflow.keras.layers import Dense, Flatten, AlphaDropout, LayerNormalization\n",
    "\n",
    "def new_snn(dense_count: int, dense_base: int):\n",
    "    # Model input\n",
    "    inputs = Input(shape=x_train[0].shape, name='Landmark_Vectors')\n",
    "\n",
    "    # Layer normalization (only for inputs)\n",
    "    layerNorm = LayerNormalization(name='LayerNorm')(inputs)\n",
    "\n",
    "    # Flatten 3D inputs\n",
    "    flatten = Flatten(name='Flatten_Vectors')(layerNorm)\n",
    "\n",
    "    # Create conical, fully connected NN with n dense layers\n",
    "    out = flatten\n",
    "\n",
    "    for i in range(dense_count):\n",
    "        units = (dense_count-i) * (dense_count-i) * dense_base\n",
    "        dense = Dense(units, \n",
    "                    kernel_initializer=\"lecun_normal\", \n",
    "                    bias_initializer=\"zeros\", \n",
    "                    activation='selu',\n",
    "                    name=f'Dense_{i+1}')\n",
    "        a_dropout = AlphaDropout(0.05, name=f'Dropout_{i+1}')\n",
    "        out = dense(out)\n",
    "        if (i < dense_count-1):\n",
    "            out = a_dropout(out)\n",
    "\n",
    "    model = Model(inputs=inputs, outputs=out, name=\"SNN_6\")\n",
    "\n",
    "    return model"
   ]
  },
  {
   "cell_type": "markdown",
   "metadata": {},
   "source": [
    "But twice with shared weights:"
   ]
  },
  {
   "cell_type": "code",
   "execution_count": 95,
   "metadata": {},
   "outputs": [
    {
     "name": "stdout",
     "output_type": "stream",
     "text": [
      "Model: \"siamese_snn\"\n",
      "__________________________________________________________________________________________________\n",
      " Layer (type)                Output Shape                 Param #   Connected to                  \n",
      "==================================================================================================\n",
      " input_14 (InputLayer)       [(None, 21, 3)]              0         []                            \n",
      "                                                                                                  \n",
      " input_15 (InputLayer)       [(None, 21, 3)]              0         []                            \n",
      "                                                                                                  \n",
      " SNN_6 (Functional)          (None, 48)                   3532374   ['input_14[0][0]',            \n",
      "                                                                     'input_15[0][0]']            \n",
      "                                                                                                  \n",
      " lambda_5 (Lambda)           (None, 1)                    0         ['SNN_6[0][0]',               \n",
      "                                                                     'SNN_6[1][0]']               \n",
      "                                                                                                  \n",
      " batch_normalization_5 (Bat  (None, 1)                    4         ['lambda_5[0][0]']            \n",
      " chNormalization)                                                                                 \n",
      "                                                                                                  \n",
      " dense_5 (Dense)             (None, 1)                    2         ['batch_normalization_5[0][0]'\n",
      "                                                                    ]                             \n",
      "                                                                                                  \n",
      "==================================================================================================\n",
      "Total params: 3532380 (13.47 MB)\n",
      "Trainable params: 3532378 (13.47 MB)\n",
      "Non-trainable params: 2 (8.00 Byte)\n",
      "__________________________________________________________________________________________________\n"
     ]
    }
   ],
   "source": [
    "from keras.layers import Lambda, BatchNormalization\n",
    "\n",
    "embedding_network = new_snn(6, 48)\n",
    "\n",
    "input_1 = Input(x_train[0].shape)\n",
    "input_2 = Input(x_train[0].shape)\n",
    "\n",
    "tower_1 = embedding_network(input_1)\n",
    "tower_2 = embedding_network(input_2)\n",
    "\n",
    "merge_layer = Lambda(euclidean_distance)([tower_1, tower_2])\n",
    "normal_layer = BatchNormalization()(merge_layer)\n",
    "output_layer = Dense(1, activation=\"sigmoid\")(normal_layer)\n",
    "siamese_snn = Model(inputs=[input_1, input_2], outputs=output_layer, name=\"siamese_snn\")\n",
    "\n",
    "siamese_snn.summary()"
   ]
  },
  {
   "cell_type": "code",
   "execution_count": 96,
   "metadata": {},
   "outputs": [],
   "source": [
    "from tensorflow.keras.callbacks import EarlyStopping, ReduceLROnPlateau\n",
    "\n",
    "# Reduce learning rate if no improvement is made (after 5 epochs)\n",
    "reduce_lr = ReduceLROnPlateau(\n",
    "    monitor='val_acc',\n",
    "    factor=0.2,\n",
    "    min_lr=0.00001,\n",
    "    patience=5,\n",
    "    verbose=0\n",
    ")\n",
    "\n",
    "# Use callback to stop training if no improvement is made (after 10 epochs)\n",
    "early_stop = EarlyStopping(\n",
    "    monitor='val_acc',\n",
    "    restore_best_weights=True,\n",
    "    patience=10,\n",
    "    verbose=0\n",
    ")"
   ]
  },
  {
   "cell_type": "markdown",
   "metadata": {},
   "source": [
    "We'll compile or model with the Adam optimizer (as always) and Contrastive Loss:"
   ]
  },
  {
   "cell_type": "code",
   "execution_count": 102,
   "metadata": {},
   "outputs": [],
   "source": [
    "def loss(margin=1):\n",
    "    \"\"\"Provides 'contrastive_loss' an enclosing scope with variable 'margin'.\n",
    "\n",
    "    Arguments:\n",
    "        margin: Integer, defines the baseline for distance for which pairs\n",
    "                should be classified as dissimilar. - (default is 1).\n",
    "\n",
    "    Returns:\n",
    "        'contrastive_loss' function with data ('margin') attached.\n",
    "    \"\"\"\n",
    "\n",
    "    # Contrastive loss = mean( (1-true_value) * square(prediction) +\n",
    "    #                         true_value * square( max(margin-prediction, 0) ))\n",
    "    def contrastive_loss(y_true, y_pred):\n",
    "        \"\"\"Calculates the contrastive loss.\n",
    "\n",
    "        Arguments:\n",
    "            y_true: List of labels, each label is of type float32.\n",
    "            y_pred: List of predictions of same length as of y_true,\n",
    "                    each label is of type float32.\n",
    "\n",
    "        Returns:\n",
    "            A tensor containing contrastive loss as floating point value.\n",
    "        \"\"\"\n",
    "\n",
    "        square_pred = tf.math.square(y_pred)\n",
    "        margin_square = tf.math.square(tf.math.maximum(margin - (y_pred), 0))\n",
    "        return tf.math.reduce_mean(\n",
    "            (1 - y_true) * square_pred + (y_true) * margin_square\n",
    "        )\n",
    "\n",
    "    return contrastive_loss"
   ]
  },
  {
   "cell_type": "code",
   "execution_count": 103,
   "metadata": {},
   "outputs": [
    {
     "name": "stderr",
     "output_type": "stream",
     "text": [
      "WARNING:absl:At this time, the v2.11+ optimizer `tf.keras.optimizers.Adam` runs slowly on M1/M2 Macs, please use the legacy Keras optimizer instead, located at `tf.keras.optimizers.legacy.Adam`.\n"
     ]
    }
   ],
   "source": [
    "from tensorflow.keras.optimizers import Adam\n",
    "from tensorflow_addons.losses import contrastive_loss  # model does not learn anything???\n",
    "\n",
    "# Use Adam optimizer\n",
    "adam = Adam(learning_rate=0.001, beta_2=0.99, epsilon=0.01)\n",
    "\n",
    "# Compile model\n",
    "siamese_snn.compile(\n",
    "    loss=loss(margin=1),\n",
    "    optimizer=adam,\n",
    "    metrics=['acc']\n",
    ")"
   ]
  },
  {
   "cell_type": "code",
   "execution_count": 104,
   "metadata": {},
   "outputs": [
    {
     "name": "stdout",
     "output_type": "stream",
     "text": [
      "Epoch 1/100\n",
      "72/72 [==============================] - 4s 34ms/step - loss: 0.2663 - acc: 0.5015 - val_loss: 0.2746 - val_acc: 0.4985 - lr: 0.0010\n",
      "Epoch 2/100\n",
      "72/72 [==============================] - 2s 29ms/step - loss: 0.2629 - acc: 0.5086 - val_loss: 0.2703 - val_acc: 0.5081 - lr: 0.0010\n",
      "Epoch 3/100\n",
      "72/72 [==============================] - 2s 30ms/step - loss: 0.2595 - acc: 0.5096 - val_loss: 0.2645 - val_acc: 0.5194 - lr: 0.0010\n",
      "Epoch 4/100\n",
      "72/72 [==============================] - 2s 30ms/step - loss: 0.2575 - acc: 0.5187 - val_loss: 0.2607 - val_acc: 0.5256 - lr: 0.0010\n",
      "Epoch 5/100\n",
      "72/72 [==============================] - 2s 31ms/step - loss: 0.2565 - acc: 0.5148 - val_loss: 0.2542 - val_acc: 0.5369 - lr: 0.0010\n",
      "Epoch 6/100\n",
      "72/72 [==============================] - 2s 30ms/step - loss: 0.2529 - acc: 0.5303 - val_loss: 0.2501 - val_acc: 0.5452 - lr: 0.0010\n",
      "Epoch 7/100\n",
      "72/72 [==============================] - 2s 30ms/step - loss: 0.2495 - acc: 0.5369 - val_loss: 0.2432 - val_acc: 0.5710 - lr: 0.0010\n",
      "Epoch 8/100\n",
      "72/72 [==============================] - 2s 30ms/step - loss: 0.2446 - acc: 0.5554 - val_loss: 0.2307 - val_acc: 0.6029 - lr: 0.0010\n",
      "Epoch 9/100\n",
      "72/72 [==============================] - 2s 30ms/step - loss: 0.2368 - acc: 0.5907 - val_loss: 0.2188 - val_acc: 0.6426 - lr: 0.0010\n",
      "Epoch 10/100\n",
      "72/72 [==============================] - 2s 30ms/step - loss: 0.2320 - acc: 0.6121 - val_loss: 0.2119 - val_acc: 0.6636 - lr: 0.0010\n",
      "Epoch 11/100\n",
      "72/72 [==============================] - 2s 31ms/step - loss: 0.2263 - acc: 0.6388 - val_loss: 0.2056 - val_acc: 0.6820 - lr: 0.0010\n",
      "Epoch 12/100\n",
      "72/72 [==============================] - 2s 31ms/step - loss: 0.2203 - acc: 0.6557 - val_loss: 0.2008 - val_acc: 0.6938 - lr: 0.0010\n",
      "Epoch 13/100\n",
      "72/72 [==============================] - 2s 30ms/step - loss: 0.2155 - acc: 0.6667 - val_loss: 0.1978 - val_acc: 0.7016 - lr: 0.0010\n",
      "Epoch 14/100\n",
      "72/72 [==============================] - 2s 30ms/step - loss: 0.2114 - acc: 0.6787 - val_loss: 0.1942 - val_acc: 0.7055 - lr: 0.0010\n",
      "Epoch 15/100\n",
      "72/72 [==============================] - 2s 31ms/step - loss: 0.2062 - acc: 0.6870 - val_loss: 0.1903 - val_acc: 0.7156 - lr: 0.0010\n",
      "Epoch 16/100\n",
      "72/72 [==============================] - 2s 30ms/step - loss: 0.2026 - acc: 0.6864 - val_loss: 0.1845 - val_acc: 0.7243 - lr: 0.0010\n",
      "Epoch 17/100\n",
      "72/72 [==============================] - 2s 31ms/step - loss: 0.1973 - acc: 0.6996 - val_loss: 0.1798 - val_acc: 0.7339 - lr: 0.0010\n",
      "Epoch 18/100\n",
      "72/72 [==============================] - 2s 31ms/step - loss: 0.1920 - acc: 0.7154 - val_loss: 0.1738 - val_acc: 0.7418 - lr: 0.0010\n",
      "Epoch 19/100\n",
      "72/72 [==============================] - 2s 31ms/step - loss: 0.1839 - acc: 0.7303 - val_loss: 0.1632 - val_acc: 0.7558 - lr: 0.0010\n",
      "Epoch 20/100\n",
      "72/72 [==============================] - 2s 30ms/step - loss: 0.1777 - acc: 0.7365 - val_loss: 0.1537 - val_acc: 0.7750 - lr: 0.0010\n",
      "Epoch 21/100\n",
      "72/72 [==============================] - 2s 31ms/step - loss: 0.1698 - acc: 0.7531 - val_loss: 0.1476 - val_acc: 0.7916 - lr: 0.0010\n",
      "Epoch 22/100\n",
      "72/72 [==============================] - 2s 30ms/step - loss: 0.1631 - acc: 0.7681 - val_loss: 0.1444 - val_acc: 0.7899 - lr: 0.0010\n",
      "Epoch 23/100\n",
      "72/72 [==============================] - 2s 31ms/step - loss: 0.1591 - acc: 0.7753 - val_loss: 0.1381 - val_acc: 0.8073 - lr: 0.0010\n",
      "Epoch 24/100\n",
      "72/72 [==============================] - 2s 31ms/step - loss: 0.1525 - acc: 0.7867 - val_loss: 0.1332 - val_acc: 0.8121 - lr: 0.0010\n",
      "Epoch 25/100\n",
      "72/72 [==============================] - 2s 31ms/step - loss: 0.1473 - acc: 0.7931 - val_loss: 0.1310 - val_acc: 0.8152 - lr: 0.0010\n",
      "Epoch 26/100\n",
      "72/72 [==============================] - 2s 31ms/step - loss: 0.1450 - acc: 0.7973 - val_loss: 0.1284 - val_acc: 0.8183 - lr: 0.0010\n",
      "Epoch 27/100\n",
      "72/72 [==============================] - 2s 31ms/step - loss: 0.1402 - acc: 0.8065 - val_loss: 0.1230 - val_acc: 0.8248 - lr: 0.0010\n",
      "Epoch 28/100\n",
      "72/72 [==============================] - 2s 31ms/step - loss: 0.1365 - acc: 0.8102 - val_loss: 0.1204 - val_acc: 0.8279 - lr: 0.0010\n",
      "Epoch 29/100\n",
      "72/72 [==============================] - 2s 30ms/step - loss: 0.1326 - acc: 0.8206 - val_loss: 0.1234 - val_acc: 0.8200 - lr: 0.0010\n",
      "Epoch 30/100\n",
      "72/72 [==============================] - 2s 30ms/step - loss: 0.1301 - acc: 0.8237 - val_loss: 0.1179 - val_acc: 0.8314 - lr: 0.0010\n",
      "Epoch 31/100\n",
      "72/72 [==============================] - 2s 31ms/step - loss: 0.1300 - acc: 0.8218 - val_loss: 0.1185 - val_acc: 0.8318 - lr: 0.0010\n",
      "Epoch 32/100\n",
      "72/72 [==============================] - 14s 202ms/step - loss: 0.1253 - acc: 0.8281 - val_loss: 0.1135 - val_acc: 0.8440 - lr: 0.0010\n",
      "Epoch 33/100\n",
      "72/72 [==============================] - 2s 31ms/step - loss: 0.1246 - acc: 0.8313 - val_loss: 0.1121 - val_acc: 0.8445 - lr: 0.0010\n",
      "Epoch 34/100\n",
      "72/72 [==============================] - 2s 31ms/step - loss: 0.1216 - acc: 0.8350 - val_loss: 0.1115 - val_acc: 0.8449 - lr: 0.0010\n",
      "Epoch 35/100\n",
      "72/72 [==============================] - 2s 31ms/step - loss: 0.1201 - acc: 0.8381 - val_loss: 0.1090 - val_acc: 0.8510 - lr: 0.0010\n",
      "Epoch 36/100\n",
      "72/72 [==============================] - 2s 33ms/step - loss: 0.1179 - acc: 0.8422 - val_loss: 0.1093 - val_acc: 0.8462 - lr: 0.0010\n",
      "Epoch 37/100\n",
      "72/72 [==============================] - 2s 31ms/step - loss: 0.1175 - acc: 0.8427 - val_loss: 0.1077 - val_acc: 0.8497 - lr: 0.0010\n",
      "Epoch 38/100\n",
      "72/72 [==============================] - 2s 31ms/step - loss: 0.1156 - acc: 0.8423 - val_loss: 0.1070 - val_acc: 0.8506 - lr: 0.0010\n",
      "Epoch 39/100\n",
      "72/72 [==============================] - 2s 31ms/step - loss: 0.1130 - acc: 0.8478 - val_loss: 0.1092 - val_acc: 0.8436 - lr: 0.0010\n",
      "Epoch 40/100\n",
      "72/72 [==============================] - 2s 30ms/step - loss: 0.1122 - acc: 0.8484 - val_loss: 0.1057 - val_acc: 0.8554 - lr: 0.0010\n",
      "Epoch 41/100\n",
      "72/72 [==============================] - 2s 30ms/step - loss: 0.1100 - acc: 0.8509 - val_loss: 0.1018 - val_acc: 0.8589 - lr: 0.0010\n",
      "Epoch 42/100\n",
      "72/72 [==============================] - 2s 31ms/step - loss: 0.1109 - acc: 0.8485 - val_loss: 0.1001 - val_acc: 0.8611 - lr: 0.0010\n",
      "Epoch 43/100\n",
      "72/72 [==============================] - 2s 31ms/step - loss: 0.1055 - acc: 0.8586 - val_loss: 0.0997 - val_acc: 0.8580 - lr: 0.0010\n",
      "Epoch 44/100\n",
      "72/72 [==============================] - 2s 31ms/step - loss: 0.1064 - acc: 0.8564 - val_loss: 0.0966 - val_acc: 0.8641 - lr: 0.0010\n",
      "Epoch 45/100\n",
      "72/72 [==============================] - 2s 31ms/step - loss: 0.1040 - acc: 0.8629 - val_loss: 0.0965 - val_acc: 0.8668 - lr: 0.0010\n",
      "Epoch 46/100\n",
      "72/72 [==============================] - 2s 31ms/step - loss: 0.1020 - acc: 0.8645 - val_loss: 0.0930 - val_acc: 0.8751 - lr: 0.0010\n",
      "Epoch 47/100\n",
      "72/72 [==============================] - 2s 30ms/step - loss: 0.1004 - acc: 0.8687 - val_loss: 0.0930 - val_acc: 0.8711 - lr: 0.0010\n",
      "Epoch 48/100\n",
      "72/72 [==============================] - 2s 31ms/step - loss: 0.0997 - acc: 0.8693 - val_loss: 0.0924 - val_acc: 0.8746 - lr: 0.0010\n",
      "Epoch 49/100\n",
      "72/72 [==============================] - 2s 30ms/step - loss: 0.0966 - acc: 0.8718 - val_loss: 0.0957 - val_acc: 0.8681 - lr: 0.0010\n",
      "Epoch 50/100\n",
      "72/72 [==============================] - 2s 31ms/step - loss: 0.0944 - acc: 0.8774 - val_loss: 0.0891 - val_acc: 0.8768 - lr: 0.0010\n",
      "Epoch 51/100\n",
      "72/72 [==============================] - 2s 31ms/step - loss: 0.0935 - acc: 0.8799 - val_loss: 0.0865 - val_acc: 0.8825 - lr: 0.0010\n",
      "Epoch 52/100\n",
      "72/72 [==============================] - 2s 31ms/step - loss: 0.0921 - acc: 0.8797 - val_loss: 0.0864 - val_acc: 0.8816 - lr: 0.0010\n",
      "Epoch 53/100\n",
      "72/72 [==============================] - 2s 31ms/step - loss: 0.0900 - acc: 0.8811 - val_loss: 0.0861 - val_acc: 0.8895 - lr: 0.0010\n",
      "Epoch 54/100\n",
      "72/72 [==============================] - 2s 31ms/step - loss: 0.0875 - acc: 0.8848 - val_loss: 0.0812 - val_acc: 0.8921 - lr: 0.0010\n",
      "Epoch 55/100\n",
      "72/72 [==============================] - 2s 31ms/step - loss: 0.0860 - acc: 0.8881 - val_loss: 0.0799 - val_acc: 0.8956 - lr: 0.0010\n",
      "Epoch 56/100\n",
      "72/72 [==============================] - 2s 31ms/step - loss: 0.0846 - acc: 0.8900 - val_loss: 0.0832 - val_acc: 0.8921 - lr: 0.0010\n",
      "Epoch 57/100\n",
      "72/72 [==============================] - 2s 31ms/step - loss: 0.0857 - acc: 0.8869 - val_loss: 0.0746 - val_acc: 0.9013 - lr: 0.0010\n",
      "Epoch 58/100\n",
      "72/72 [==============================] - 2s 31ms/step - loss: 0.0814 - acc: 0.8960 - val_loss: 0.0739 - val_acc: 0.9026 - lr: 0.0010\n",
      "Epoch 59/100\n",
      "72/72 [==============================] - 2s 32ms/step - loss: 0.0804 - acc: 0.8970 - val_loss: 0.0735 - val_acc: 0.9069 - lr: 0.0010\n",
      "Epoch 60/100\n",
      "72/72 [==============================] - 2s 33ms/step - loss: 0.0794 - acc: 0.8982 - val_loss: 0.0706 - val_acc: 0.9109 - lr: 0.0010\n",
      "Epoch 61/100\n",
      "72/72 [==============================] - 2s 32ms/step - loss: 0.0786 - acc: 0.9005 - val_loss: 0.0691 - val_acc: 0.9091 - lr: 0.0010\n",
      "Epoch 62/100\n",
      "72/72 [==============================] - 2s 31ms/step - loss: 0.0762 - acc: 0.9045 - val_loss: 0.0673 - val_acc: 0.9144 - lr: 0.0010\n",
      "Epoch 63/100\n",
      "72/72 [==============================] - 2s 30ms/step - loss: 0.0750 - acc: 0.9040 - val_loss: 0.0691 - val_acc: 0.9135 - lr: 0.0010\n",
      "Epoch 64/100\n",
      "72/72 [==============================] - 2s 30ms/step - loss: 0.0753 - acc: 0.9036 - val_loss: 0.0668 - val_acc: 0.9174 - lr: 0.0010\n",
      "Epoch 65/100\n",
      "72/72 [==============================] - 2s 30ms/step - loss: 0.0722 - acc: 0.9094 - val_loss: 0.0637 - val_acc: 0.9157 - lr: 0.0010\n",
      "Epoch 66/100\n",
      "72/72 [==============================] - 2s 30ms/step - loss: 0.0712 - acc: 0.9091 - val_loss: 0.0680 - val_acc: 0.9135 - lr: 0.0010\n",
      "Epoch 67/100\n",
      "72/72 [==============================] - 2s 30ms/step - loss: 0.0725 - acc: 0.9087 - val_loss: 0.0674 - val_acc: 0.9126 - lr: 0.0010\n",
      "Epoch 68/100\n",
      "72/72 [==============================] - 2s 30ms/step - loss: 0.0706 - acc: 0.9088 - val_loss: 0.0663 - val_acc: 0.9144 - lr: 0.0010\n",
      "Epoch 69/100\n",
      "72/72 [==============================] - 2s 30ms/step - loss: 0.0693 - acc: 0.9133 - val_loss: 0.0625 - val_acc: 0.9183 - lr: 0.0010\n",
      "Epoch 70/100\n",
      "72/72 [==============================] - 2s 29ms/step - loss: 0.0676 - acc: 0.9131 - val_loss: 0.0652 - val_acc: 0.9179 - lr: 0.0010\n",
      "Epoch 71/100\n",
      "72/72 [==============================] - 2s 30ms/step - loss: 0.0671 - acc: 0.9157 - val_loss: 0.0637 - val_acc: 0.9131 - lr: 0.0010\n",
      "Epoch 72/100\n",
      "72/72 [==============================] - 2s 30ms/step - loss: 0.0662 - acc: 0.9163 - val_loss: 0.0646 - val_acc: 0.9152 - lr: 0.0010\n",
      "Epoch 73/100\n",
      "72/72 [==============================] - 2s 30ms/step - loss: 0.0654 - acc: 0.9177 - val_loss: 0.0606 - val_acc: 0.9196 - lr: 0.0010\n",
      "Epoch 74/100\n",
      "72/72 [==============================] - 2s 30ms/step - loss: 0.0652 - acc: 0.9200 - val_loss: 0.0649 - val_acc: 0.9187 - lr: 0.0010\n",
      "Epoch 75/100\n",
      "72/72 [==============================] - 2s 30ms/step - loss: 0.0662 - acc: 0.9174 - val_loss: 0.0600 - val_acc: 0.9231 - lr: 0.0010\n",
      "Epoch 76/100\n",
      "72/72 [==============================] - 2s 32ms/step - loss: 0.0629 - acc: 0.9213 - val_loss: 0.0582 - val_acc: 0.9227 - lr: 0.0010\n",
      "Epoch 77/100\n",
      "72/72 [==============================] - 2s 31ms/step - loss: 0.0644 - acc: 0.9204 - val_loss: 0.0593 - val_acc: 0.9209 - lr: 0.0010\n",
      "Epoch 78/100\n",
      "72/72 [==============================] - 2s 30ms/step - loss: 0.0621 - acc: 0.9219 - val_loss: 0.0581 - val_acc: 0.9249 - lr: 0.0010\n",
      "Epoch 79/100\n",
      "72/72 [==============================] - 2s 31ms/step - loss: 0.0618 - acc: 0.9208 - val_loss: 0.0583 - val_acc: 0.9257 - lr: 0.0010\n",
      "Epoch 80/100\n",
      "72/72 [==============================] - 2s 31ms/step - loss: 0.0613 - acc: 0.9210 - val_loss: 0.0599 - val_acc: 0.9222 - lr: 0.0010\n",
      "Epoch 81/100\n",
      "72/72 [==============================] - 2s 31ms/step - loss: 0.0604 - acc: 0.9246 - val_loss: 0.0586 - val_acc: 0.9253 - lr: 0.0010\n",
      "Epoch 82/100\n",
      "72/72 [==============================] - 2s 32ms/step - loss: 0.0603 - acc: 0.9225 - val_loss: 0.0555 - val_acc: 0.9327 - lr: 0.0010\n",
      "Epoch 83/100\n",
      "72/72 [==============================] - 2s 31ms/step - loss: 0.0580 - acc: 0.9292 - val_loss: 0.0552 - val_acc: 0.9301 - lr: 0.0010\n",
      "Epoch 84/100\n",
      "72/72 [==============================] - 2s 32ms/step - loss: 0.0590 - acc: 0.9279 - val_loss: 0.0581 - val_acc: 0.9231 - lr: 0.0010\n",
      "Epoch 85/100\n",
      "72/72 [==============================] - 2s 32ms/step - loss: 0.0595 - acc: 0.9240 - val_loss: 0.0553 - val_acc: 0.9279 - lr: 0.0010\n",
      "Epoch 86/100\n",
      "72/72 [==============================] - 2s 31ms/step - loss: 0.0582 - acc: 0.9273 - val_loss: 0.0541 - val_acc: 0.9297 - lr: 0.0010\n",
      "Epoch 87/100\n",
      "72/72 [==============================] - 2s 31ms/step - loss: 0.0566 - acc: 0.9305 - val_loss: 0.0568 - val_acc: 0.9244 - lr: 0.0010\n",
      "Epoch 88/100\n",
      "72/72 [==============================] - 2s 31ms/step - loss: 0.0569 - acc: 0.9281 - val_loss: 0.0538 - val_acc: 0.9292 - lr: 2.0000e-04\n",
      "Epoch 89/100\n",
      "72/72 [==============================] - 2s 32ms/step - loss: 0.0557 - acc: 0.9311 - val_loss: 0.0531 - val_acc: 0.9323 - lr: 2.0000e-04\n",
      "Epoch 90/100\n",
      "72/72 [==============================] - 2s 31ms/step - loss: 0.0547 - acc: 0.9340 - val_loss: 0.0527 - val_acc: 0.9336 - lr: 2.0000e-04\n",
      "Epoch 91/100\n",
      "72/72 [==============================] - 2s 31ms/step - loss: 0.0556 - acc: 0.9299 - val_loss: 0.0524 - val_acc: 0.9340 - lr: 2.0000e-04\n",
      "Epoch 92/100\n",
      "72/72 [==============================] - 2s 31ms/step - loss: 0.0531 - acc: 0.9354 - val_loss: 0.0522 - val_acc: 0.9332 - lr: 2.0000e-04\n",
      "Epoch 93/100\n",
      "72/72 [==============================] - 2s 31ms/step - loss: 0.0546 - acc: 0.9320 - val_loss: 0.0529 - val_acc: 0.9314 - lr: 2.0000e-04\n",
      "Epoch 94/100\n",
      "72/72 [==============================] - 2s 31ms/step - loss: 0.0527 - acc: 0.9348 - val_loss: 0.0518 - val_acc: 0.9314 - lr: 2.0000e-04\n",
      "Epoch 95/100\n",
      "72/72 [==============================] - 2s 31ms/step - loss: 0.0539 - acc: 0.9332 - val_loss: 0.0517 - val_acc: 0.9327 - lr: 2.0000e-04\n",
      "Epoch 96/100\n",
      "72/72 [==============================] - 2s 33ms/step - loss: 0.0538 - acc: 0.9326 - val_loss: 0.0530 - val_acc: 0.9327 - lr: 2.0000e-04\n",
      "Epoch 97/100\n",
      "72/72 [==============================] - 2s 33ms/step - loss: 0.0518 - acc: 0.9365 - val_loss: 0.0525 - val_acc: 0.9336 - lr: 4.0000e-05\n",
      "Epoch 98/100\n",
      "72/72 [==============================] - 2s 32ms/step - loss: 0.0538 - acc: 0.9326 - val_loss: 0.0520 - val_acc: 0.9327 - lr: 4.0000e-05\n",
      "Epoch 99/100\n",
      "72/72 [==============================] - 2s 31ms/step - loss: 0.0550 - acc: 0.9299 - val_loss: 0.0522 - val_acc: 0.9327 - lr: 4.0000e-05\n",
      "Epoch 100/100\n",
      "72/72 [==============================] - 2s 31ms/step - loss: 0.0537 - acc: 0.9323 - val_loss: 0.0520 - val_acc: 0.9327 - lr: 4.0000e-05\n"
     ]
    }
   ],
   "source": [
    "# Training Hyperparameters\n",
    "epochs = 10\n",
    "val_split = .2\n",
    "\n",
    "# Start training\n",
    "history = siamese_snn.fit(\n",
    "    [x_train_1, x_train_2], \n",
    "    labels_train,\n",
    "    epochs=100,\n",
    "    batch_size=128,\n",
    "    validation_split=val_split,\n",
    "    callbacks=[early_stop, reduce_lr],\n",
    "    verbose=1\n",
    ")"
   ]
  },
  {
   "cell_type": "markdown",
   "metadata": {},
   "source": [
    "Our model now takes about twice the number of epochs to converge, but we seem to get similar levels of validation accuracy."
   ]
  },
  {
   "cell_type": "code",
   "execution_count": 105,
   "metadata": {},
   "outputs": [
    {
     "data": {
      "image/png": "[encoded data removed]",
      "text/plain": [
       "<Figure size 1200x800 with 2 Axes>"
      ]
     },
     "metadata": {},
     "output_type": "display_data"
    }
   ],
   "source": [
    "import matplotlib.pyplot as plt\n",
    "\n",
    "# Lets visualize the training\n",
    "\n",
    "plt.figure(figsize=(12, 8))\n",
    "\n",
    "plt.subplot(2, 2, 1)\n",
    "plt.plot(history.history['loss'], label='train loss')\n",
    "plt.plot(history.history['val_loss'], label='val loss')\n",
    "plt.legend()\n",
    "\n",
    "plt.subplot(2, 2, 2)\n",
    "plt.plot(history.history['acc'], label='train acc')\n",
    "plt.plot(history.history['val_acc'], label='val acc')\n",
    "plt.legend()\n",
    "\n",
    "plt.show()\n",
    "plt.close()"
   ]
  },
  {
   "cell_type": "markdown",
   "metadata": {},
   "source": [
    "Our model also seems to perform quite well on entirely new signs:"
   ]
  },
  {
   "cell_type": "code",
   "execution_count": 106,
   "metadata": {},
   "outputs": [
    {
     "name": "stdout",
     "output_type": "stream",
     "text": [
      "++++++++++++ Test data ++++++++++++\n",
      "loss=0.1124 acc=0.8678\n"
     ]
    }
   ],
   "source": [
    "# And evaluate the model on test data\n",
    "loss, acc = siamese_snn.evaluate([x_test_1, x_test_2], labels_test, verbose=0)\n",
    "print(f'++++++++++++ Test data ++++++++++++\\nloss={loss:.4f} acc={acc:.4f}')"
   ]
  },
  {
   "cell_type": "markdown",
   "metadata": {},
   "source": [
    "We can also reframe the test problem.\n",
    "\n",
    "Previously we judged our model's capability to output a similarity score below 0.5 for matching samples and a score above 0.5 for non-matching ones.\n",
    "\n",
    "How about we test our model's classification capabilities?\n",
    "Given a number of possible classes (reference samples), which class does a given sample belong to?"
   ]
  },
  {
   "cell_type": "code",
   "execution_count": 143,
   "metadata": {},
   "outputs": [],
   "source": [
    "from sklearn.metrics import accuracy_score\n",
    "\n",
    "def test_classification(model, reference_samples, reference_labels, test_samples, test_labels):\n",
    "    y_true= test_labels\n",
    "    y_pred = []\n",
    "    for test_sample, test_label in zip(test_samples, test_labels):\n",
    "        x_test = np.array([test_sample for _ in reference_samples])\n",
    "        pred = model.predict([reference_samples, x_test], verbose=0)\n",
    "        pred_label_idx = np.argmin(pred)\n",
    "        predicted_label = reference_labels[pred_label_idx]\n",
    "        y_pred.append(predicted_label)\n",
    "    return accuracy_score(y_true, y_pred)"
   ]
  },
  {
   "cell_type": "code",
   "execution_count": 135,
   "metadata": {},
   "outputs": [
    {
     "name": "stdout",
     "output_type": "stream",
     "text": [
      "(1585, 21, 3)\n",
      "(5, 21, 3)\n",
      "(1580, 21, 3)\n"
     ]
    }
   ],
   "source": [
    "# x_test and y_test are still sorted by label\n",
    "# -> use the first sample for each label as reference\n",
    "label_change_indices = np.where(np.roll(y_test,1)!=y_test)[0]\n",
    "\n",
    "reference_labels = np.take(y_test, label_change_indices)\n",
    "test_labels = np.delete(y_test, label_change_indices)\n",
    "\n",
    "reference_samples = np.take(x_test, label_change_indices, axis=0)\n",
    "test_samples = np.delete(x_test, label_change_indices, axis=0)"
   ]
  },
  {
   "cell_type": "markdown",
   "metadata": {},
   "source": [
    "While this approach is obviously less computationally efficient our accuracy score is still somewhat respectable.\n",
    "\n",
    "However, it is also significantly lower than our similarity-accuracy and nowhere near our original >90% classification accuracy.\n",
    "\n",
    "This might be due to the fact that the classification problem is much harder: The model now has to produce meaningfully different similarity scores for possibly very similar samples that belong to different classes."
   ]
  },
  {
   "cell_type": "code",
   "execution_count": 144,
   "metadata": {},
   "outputs": [
    {
     "name": "stdout",
     "output_type": "stream",
     "text": [
      "++++++++++++ Test data (classification) ++++++++++++\n",
      "acc=0.7222\n"
     ]
    }
   ],
   "source": [
    "acc = test_classification(\n",
    "    siamese_snn,\n",
    "    reference_samples, reference_labels,\n",
    "    test_samples, test_labels\n",
    ")\n",
    "\n",
    "print(f'++++++++++++ Test data (classification) ++++++++++++\\nacc={acc:.4f}')"
   ]
  }
 ],
 "metadata": {
  "kernelspec": {
   "display_name": "venv",
   "language": "python",
   "name": "python3"
  },
  "language_info": {
   "codemirror_mode": {
    "name": "ipython",
    "version": 3
   },
   "file_extension": ".py",
   "mimetype": "text/x-python",
   "name": "python",
   "nbconvert_exporter": "python",
   "pygments_lexer": "ipython3",
   "version": "3.10.11"
  }
 },
 "nbformat": 4,
 "nbformat_minor": 2
}
